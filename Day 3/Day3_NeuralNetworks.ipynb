{
  "nbformat": 4,
  "nbformat_minor": 0,
  "metadata": {
    "colab": {
      "name": "Day3_NeuralNetworks.ipynb",
      "provenance": [],
      "collapsed_sections": []
    },
    "kernelspec": {
      "name": "python3",
      "display_name": "Python 3.7.9 64-bit"
    },
    "language_info": {
      "name": "python",
      "version": "3.7.9"
    },
    "metadata": {
      "interpreter": {
        "hash": "7f8c79caef6f500d10f1d53b5233fd35aa3fbbd3a39d10048919692e9c705d27"
      }
    },
    "interpreter": {
      "hash": "7f8c79caef6f500d10f1d53b5233fd35aa3fbbd3a39d10048919692e9c705d27"
    }
  },
  "cells": [
    {
      "cell_type": "markdown",
      "metadata": {
        "id": "y29U8oRAKG6K"
      },
      "source": [
        "**Step 1: Import Python Packages**"
      ]
    },
    {
      "cell_type": "code",
      "metadata": {
        "id": "a1IVlRgyKQbC"
      },
      "source": [
        "import pandas as pd\n",
        "import tensorflow as tf\n",
        "from keras.models import Sequential\n",
        "from keras.layers import Dense\n",
        "from keras.layers import Dropout"
      ],
      "execution_count": 15,
      "outputs": []
    },
    {
      "cell_type": "markdown",
      "metadata": {
        "id": "eW8BK7uuKwB5"
      },
      "source": [
        "**Step 2: Import the Dataset**\n",
        "\n",
        "\n"
      ]
    },
    {
      "cell_type": "code",
      "metadata": {
        "id": "wD1Z5T1dK6PJ"
      },
      "source": [
        "data = pd.read_csv(\"heart.csv\")"
      ],
      "execution_count": 20,
      "outputs": []
    },
    {
      "cell_type": "code",
      "metadata": {
        "colab": {
          "base_uri": "https://localhost:8080/",
          "height": 204
        },
        "id": "HdB4y7J-Sm8K",
        "outputId": "e1606462-38a1-4a7b-c531-f245fc92227c"
      },
      "source": [
        "data.head()"
      ],
      "execution_count": 21,
      "outputs": [
        {
          "output_type": "execute_result",
          "data": {
            "text/plain": [
              "   age  sex  cp  trtbps  chol  fbs  restecg  thalachh  exng  oldpeak  slp  \\\n",
              "0   63    1   3     145   233    1        0       150     0      2.3    0   \n",
              "1   37    1   2     130   250    0        1       187     0      3.5    0   \n",
              "2   41    0   1     130   204    0        0       172     0      1.4    2   \n",
              "3   56    1   1     120   236    0        1       178     0      0.8    2   \n",
              "4   57    0   0     120   354    0        1       163     1      0.6    2   \n",
              "\n",
              "   caa  thall  output  \n",
              "0    0      1       1  \n",
              "1    0      2       1  \n",
              "2    0      2       1  \n",
              "3    0      2       1  \n",
              "4    0      2       1  "
            ],
            "text/html": "<div>\n<style scoped>\n    .dataframe tbody tr th:only-of-type {\n        vertical-align: middle;\n    }\n\n    .dataframe tbody tr th {\n        vertical-align: top;\n    }\n\n    .dataframe thead th {\n        text-align: right;\n    }\n</style>\n<table border=\"1\" class=\"dataframe\">\n  <thead>\n    <tr style=\"text-align: right;\">\n      <th></th>\n      <th>age</th>\n      <th>sex</th>\n      <th>cp</th>\n      <th>trtbps</th>\n      <th>chol</th>\n      <th>fbs</th>\n      <th>restecg</th>\n      <th>thalachh</th>\n      <th>exng</th>\n      <th>oldpeak</th>\n      <th>slp</th>\n      <th>caa</th>\n      <th>thall</th>\n      <th>output</th>\n    </tr>\n  </thead>\n  <tbody>\n    <tr>\n      <th>0</th>\n      <td>63</td>\n      <td>1</td>\n      <td>3</td>\n      <td>145</td>\n      <td>233</td>\n      <td>1</td>\n      <td>0</td>\n      <td>150</td>\n      <td>0</td>\n      <td>2.3</td>\n      <td>0</td>\n      <td>0</td>\n      <td>1</td>\n      <td>1</td>\n    </tr>\n    <tr>\n      <th>1</th>\n      <td>37</td>\n      <td>1</td>\n      <td>2</td>\n      <td>130</td>\n      <td>250</td>\n      <td>0</td>\n      <td>1</td>\n      <td>187</td>\n      <td>0</td>\n      <td>3.5</td>\n      <td>0</td>\n      <td>0</td>\n      <td>2</td>\n      <td>1</td>\n    </tr>\n    <tr>\n      <th>2</th>\n      <td>41</td>\n      <td>0</td>\n      <td>1</td>\n      <td>130</td>\n      <td>204</td>\n      <td>0</td>\n      <td>0</td>\n      <td>172</td>\n      <td>0</td>\n      <td>1.4</td>\n      <td>2</td>\n      <td>0</td>\n      <td>2</td>\n      <td>1</td>\n    </tr>\n    <tr>\n      <th>3</th>\n      <td>56</td>\n      <td>1</td>\n      <td>1</td>\n      <td>120</td>\n      <td>236</td>\n      <td>0</td>\n      <td>1</td>\n      <td>178</td>\n      <td>0</td>\n      <td>0.8</td>\n      <td>2</td>\n      <td>0</td>\n      <td>2</td>\n      <td>1</td>\n    </tr>\n    <tr>\n      <th>4</th>\n      <td>57</td>\n      <td>0</td>\n      <td>0</td>\n      <td>120</td>\n      <td>354</td>\n      <td>0</td>\n      <td>1</td>\n      <td>163</td>\n      <td>1</td>\n      <td>0.6</td>\n      <td>2</td>\n      <td>0</td>\n      <td>2</td>\n      <td>1</td>\n    </tr>\n  </tbody>\n</table>\n</div>"
          },
          "metadata": {},
          "execution_count": 21
        }
      ]
    },
    {
      "cell_type": "code",
      "metadata": {
        "colab": {
          "base_uri": "https://localhost:8080/",
          "height": 204
        },
        "id": "d_XmX8KFimiR",
        "outputId": "ea160873-9b86-47e6-c1cc-d515c6ae56e5"
      },
      "source": [
        "# remove unnecessary columns\n",
        "data = data.drop('restecg',axis=1)\n",
        "data = data.drop('slp',axis=1)\n",
        "data = data.drop('thall',axis=1)\n",
        "data = data.drop('oldpeak',axis=1)\n",
        "data.tail()"
      ],
      "execution_count": 22,
      "outputs": [
        {
          "output_type": "execute_result",
          "data": {
            "text/plain": [
              "     age  sex  cp  trtbps  chol  fbs  thalachh  exng  caa  output\n",
              "298   57    0   0     140   241    0       123     1    0       0\n",
              "299   45    1   3     110   264    0       132     0    0       0\n",
              "300   68    1   0     144   193    1       141     0    2       0\n",
              "301   57    1   0     130   131    0       115     1    1       0\n",
              "302   57    0   1     130   236    0       174     0    1       0"
            ],
            "text/html": "<div>\n<style scoped>\n    .dataframe tbody tr th:only-of-type {\n        vertical-align: middle;\n    }\n\n    .dataframe tbody tr th {\n        vertical-align: top;\n    }\n\n    .dataframe thead th {\n        text-align: right;\n    }\n</style>\n<table border=\"1\" class=\"dataframe\">\n  <thead>\n    <tr style=\"text-align: right;\">\n      <th></th>\n      <th>age</th>\n      <th>sex</th>\n      <th>cp</th>\n      <th>trtbps</th>\n      <th>chol</th>\n      <th>fbs</th>\n      <th>thalachh</th>\n      <th>exng</th>\n      <th>caa</th>\n      <th>output</th>\n    </tr>\n  </thead>\n  <tbody>\n    <tr>\n      <th>298</th>\n      <td>57</td>\n      <td>0</td>\n      <td>0</td>\n      <td>140</td>\n      <td>241</td>\n      <td>0</td>\n      <td>123</td>\n      <td>1</td>\n      <td>0</td>\n      <td>0</td>\n    </tr>\n    <tr>\n      <th>299</th>\n      <td>45</td>\n      <td>1</td>\n      <td>3</td>\n      <td>110</td>\n      <td>264</td>\n      <td>0</td>\n      <td>132</td>\n      <td>0</td>\n      <td>0</td>\n      <td>0</td>\n    </tr>\n    <tr>\n      <th>300</th>\n      <td>68</td>\n      <td>1</td>\n      <td>0</td>\n      <td>144</td>\n      <td>193</td>\n      <td>1</td>\n      <td>141</td>\n      <td>0</td>\n      <td>2</td>\n      <td>0</td>\n    </tr>\n    <tr>\n      <th>301</th>\n      <td>57</td>\n      <td>1</td>\n      <td>0</td>\n      <td>130</td>\n      <td>131</td>\n      <td>0</td>\n      <td>115</td>\n      <td>1</td>\n      <td>1</td>\n      <td>0</td>\n    </tr>\n    <tr>\n      <th>302</th>\n      <td>57</td>\n      <td>0</td>\n      <td>1</td>\n      <td>130</td>\n      <td>236</td>\n      <td>0</td>\n      <td>174</td>\n      <td>0</td>\n      <td>1</td>\n      <td>0</td>\n    </tr>\n  </tbody>\n</table>\n</div>"
          },
          "metadata": {},
          "execution_count": 22
        }
      ]
    },
    {
      "cell_type": "markdown",
      "metadata": {
        "id": "j7M_yXFGSti-"
      },
      "source": [
        "**Step 3: Split the Data into Test and Train**"
      ]
    },
    {
      "cell_type": "code",
      "metadata": {
        "id": "U39irWPZSynZ"
      },
      "source": [
        "from sklearn.model_selection import train_test_split\n",
        "X=data.drop('output', axis=1)  \n",
        "y=data.output\n",
        "X_train, X_test, y_train, y_test = train_test_split(X, y, test_size=0.3)"
      ],
      "execution_count": 6,
      "outputs": []
    },
    {
      "cell_type": "markdown",
      "metadata": {
        "id": "w5VvKheiTafO"
      },
      "source": [
        "**Step 4: Create and Fit the Model**"
      ]
    },
    {
      "cell_type": "code",
      "metadata": {
        "id": "2ney0KUTTgtQ"
      },
      "source": [
        "model = Sequential()\n",
        "model.add(Dense(64, input_dim=9, activation='relu'))\n",
        "model.add(Dropout(0.1))\n",
        "model.add(Dense(32, activation='relu'))\n",
        "model.add(Dense(1, activation='sigmoid'))"
      ],
      "execution_count": 68,
      "outputs": []
    },
    {
      "cell_type": "code",
      "metadata": {
        "id": "GR-3CCkiUYJw"
      },
      "source": [
        "model.compile(loss='binary_crossentropy', optimizer='adam', metrics=['accuracy'])"
      ],
      "execution_count": 69,
      "outputs": []
    },
    {
      "cell_type": "code",
      "metadata": {
        "colab": {
          "base_uri": "https://localhost:8080/"
        },
        "id": "l17SXUanUYu4",
        "outputId": "bd1a469c-6675-4692-bc5e-23fc0429e1cb",
        "tags": [
          "outputPrepend"
        ]
      },
      "source": [
        "model.fit(X_train, y_train, validation_data=(X_test, y_test), epochs=200, batch_size=64)"
      ],
      "execution_count": 70,
      "outputs": [
        {
          "output_type": "stream",
          "name": "stdout",
          "text": [
            "_accuracy: 0.6374\n",
            "Epoch 60/200\n",
            "4/4 [==============================] - 0s 15ms/step - loss: 0.7088 - accuracy: 0.6699 - val_loss: 0.7972 - val_accuracy: 0.6374\n",
            "Epoch 61/200\n",
            "4/4 [==============================] - 0s 15ms/step - loss: 0.8959 - accuracy: 0.6056 - val_loss: 0.6835 - val_accuracy: 0.6264\n",
            "Epoch 62/200\n",
            "4/4 [==============================] - 0s 15ms/step - loss: 0.7246 - accuracy: 0.6775 - val_loss: 0.6893 - val_accuracy: 0.6044\n",
            "Epoch 63/200\n",
            "4/4 [==============================] - 0s 16ms/step - loss: 0.8071 - accuracy: 0.7065 - val_loss: 0.6689 - val_accuracy: 0.6484\n",
            "Epoch 64/200\n",
            "4/4 [==============================] - 0s 15ms/step - loss: 0.9967 - accuracy: 0.6249 - val_loss: 0.6686 - val_accuracy: 0.6264\n",
            "Epoch 65/200\n",
            "4/4 [==============================] - 0s 15ms/step - loss: 0.7521 - accuracy: 0.6603 - val_loss: 0.7305 - val_accuracy: 0.6484\n",
            "Epoch 66/200\n",
            "4/4 [==============================] - 0s 15ms/step - loss: 0.8640 - accuracy: 0.6604 - val_loss: 0.7246 - val_accuracy: 0.6264\n",
            "Epoch 67/200\n",
            "4/4 [==============================] - 0s 15ms/step - loss: 0.7899 - accuracy: 0.6962 - val_loss: 0.7275 - val_accuracy: 0.6593\n",
            "Epoch 68/200\n",
            "4/4 [==============================] - 0s 15ms/step - loss: 0.7602 - accuracy: 0.6228 - val_loss: 0.6629 - val_accuracy: 0.6264\n",
            "Epoch 69/200\n",
            "4/4 [==============================] - 0s 15ms/step - loss: 0.7776 - accuracy: 0.6561 - val_loss: 0.7002 - val_accuracy: 0.6264\n",
            "Epoch 70/200\n",
            "4/4 [==============================] - 0s 15ms/step - loss: 0.7607 - accuracy: 0.6595 - val_loss: 0.7091 - val_accuracy: 0.6374\n",
            "Epoch 71/200\n",
            "4/4 [==============================] - 0s 15ms/step - loss: 0.6595 - accuracy: 0.6915 - val_loss: 0.6832 - val_accuracy: 0.6044\n",
            "Epoch 72/200\n",
            "4/4 [==============================] - 0s 15ms/step - loss: 0.7193 - accuracy: 0.7361 - val_loss: 0.6898 - val_accuracy: 0.6374\n",
            "Epoch 73/200\n",
            "4/4 [==============================] - 0s 15ms/step - loss: 0.7742 - accuracy: 0.6357 - val_loss: 0.6631 - val_accuracy: 0.6484\n",
            "Epoch 74/200\n",
            "4/4 [==============================] - 0s 16ms/step - loss: 0.7177 - accuracy: 0.6740 - val_loss: 0.6701 - val_accuracy: 0.6374\n",
            "Epoch 75/200\n",
            "4/4 [==============================] - 0s 15ms/step - loss: 0.7206 - accuracy: 0.6673 - val_loss: 0.6591 - val_accuracy: 0.6044\n",
            "Epoch 76/200\n",
            "4/4 [==============================] - 0s 16ms/step - loss: 0.6292 - accuracy: 0.6966 - val_loss: 0.6669 - val_accuracy: 0.6154\n",
            "Epoch 77/200\n",
            "4/4 [==============================] - 0s 15ms/step - loss: 0.7885 - accuracy: 0.6478 - val_loss: 0.6692 - val_accuracy: 0.6154\n",
            "Epoch 78/200\n",
            "4/4 [==============================] - 0s 15ms/step - loss: 0.7463 - accuracy: 0.6791 - val_loss: 0.6606 - val_accuracy: 0.6154\n",
            "Epoch 79/200\n",
            "4/4 [==============================] - 0s 15ms/step - loss: 0.6825 - accuracy: 0.6643 - val_loss: 0.6356 - val_accuracy: 0.6264\n",
            "Epoch 80/200\n",
            "4/4 [==============================] - 0s 15ms/step - loss: 0.5941 - accuracy: 0.7200 - val_loss: 0.6353 - val_accuracy: 0.6264\n",
            "Epoch 81/200\n",
            "4/4 [==============================] - 0s 22ms/step - loss: 0.6730 - accuracy: 0.6953 - val_loss: 0.6763 - val_accuracy: 0.6484\n",
            "Epoch 82/200\n",
            "4/4 [==============================] - 0s 16ms/step - loss: 0.6389 - accuracy: 0.7155 - val_loss: 0.6637 - val_accuracy: 0.6154\n",
            "Epoch 83/200\n",
            "4/4 [==============================] - 0s 16ms/step - loss: 0.6542 - accuracy: 0.6565 - val_loss: 0.6744 - val_accuracy: 0.6484\n",
            "Epoch 84/200\n",
            "4/4 [==============================] - 0s 15ms/step - loss: 0.6706 - accuracy: 0.6881 - val_loss: 0.6673 - val_accuracy: 0.6264\n",
            "Epoch 85/200\n",
            "4/4 [==============================] - 0s 15ms/step - loss: 0.7419 - accuracy: 0.6830 - val_loss: 0.7437 - val_accuracy: 0.5934\n",
            "Epoch 86/200\n",
            "4/4 [==============================] - 0s 15ms/step - loss: 0.6672 - accuracy: 0.6636 - val_loss: 0.8220 - val_accuracy: 0.5934\n",
            "Epoch 87/200\n",
            "4/4 [==============================] - 0s 15ms/step - loss: 0.6293 - accuracy: 0.7003 - val_loss: 0.7359 - val_accuracy: 0.6044\n",
            "Epoch 88/200\n",
            "4/4 [==============================] - 0s 15ms/step - loss: 0.7234 - accuracy: 0.6511 - val_loss: 0.7104 - val_accuracy: 0.6484\n",
            "Epoch 89/200\n",
            "4/4 [==============================] - 0s 15ms/step - loss: 0.7004 - accuracy: 0.6948 - val_loss: 0.6709 - val_accuracy: 0.6264\n",
            "Epoch 90/200\n",
            "4/4 [==============================] - 0s 14ms/step - loss: 0.7024 - accuracy: 0.6586 - val_loss: 0.6933 - val_accuracy: 0.6374\n",
            "Epoch 91/200\n",
            "4/4 [==============================] - 0s 15ms/step - loss: 0.5931 - accuracy: 0.7354 - val_loss: 0.8007 - val_accuracy: 0.6264\n",
            "Epoch 92/200\n",
            "4/4 [==============================] - 0s 17ms/step - loss: 0.7158 - accuracy: 0.6245 - val_loss: 0.8611 - val_accuracy: 0.5714\n",
            "Epoch 93/200\n",
            "4/4 [==============================] - 0s 17ms/step - loss: 0.8410 - accuracy: 0.6376 - val_loss: 0.6760 - val_accuracy: 0.6374\n",
            "Epoch 94/200\n",
            "4/4 [==============================] - 0s 16ms/step - loss: 0.7393 - accuracy: 0.6925 - val_loss: 0.6446 - val_accuracy: 0.6154\n",
            "Epoch 95/200\n",
            "4/4 [==============================] - 0s 17ms/step - loss: 0.6443 - accuracy: 0.6382 - val_loss: 0.6840 - val_accuracy: 0.6154\n",
            "Epoch 96/200\n",
            "4/4 [==============================] - 0s 15ms/step - loss: 0.6840 - accuracy: 0.6938 - val_loss: 0.6832 - val_accuracy: 0.6374\n",
            "Epoch 97/200\n",
            "4/4 [==============================] - 0s 15ms/step - loss: 0.6058 - accuracy: 0.7274 - val_loss: 0.6595 - val_accuracy: 0.6484\n",
            "Epoch 98/200\n",
            "4/4 [==============================] - 0s 14ms/step - loss: 0.5098 - accuracy: 0.7614 - val_loss: 0.7516 - val_accuracy: 0.6484\n",
            "Epoch 99/200\n",
            "4/4 [==============================] - 0s 15ms/step - loss: 0.7554 - accuracy: 0.6300 - val_loss: 0.6509 - val_accuracy: 0.6484\n",
            "Epoch 100/200\n",
            "4/4 [==============================] - 0s 17ms/step - loss: 0.6882 - accuracy: 0.6806 - val_loss: 0.6433 - val_accuracy: 0.6154\n",
            "Epoch 101/200\n",
            "4/4 [==============================] - 0s 16ms/step - loss: 0.6417 - accuracy: 0.7251 - val_loss: 0.6585 - val_accuracy: 0.6264\n",
            "Epoch 102/200\n",
            "4/4 [==============================] - 0s 16ms/step - loss: 0.6396 - accuracy: 0.6954 - val_loss: 0.6441 - val_accuracy: 0.6374\n",
            "Epoch 103/200\n",
            "4/4 [==============================] - 0s 14ms/step - loss: 0.5369 - accuracy: 0.7478 - val_loss: 0.6685 - val_accuracy: 0.6374\n",
            "Epoch 104/200\n",
            "4/4 [==============================] - 0s 15ms/step - loss: 0.5989 - accuracy: 0.6562 - val_loss: 0.6683 - val_accuracy: 0.6374\n",
            "Epoch 105/200\n",
            "4/4 [==============================] - 0s 15ms/step - loss: 0.6153 - accuracy: 0.7007 - val_loss: 0.6407 - val_accuracy: 0.6264\n",
            "Epoch 106/200\n",
            "4/4 [==============================] - 0s 15ms/step - loss: 0.5905 - accuracy: 0.7102 - val_loss: 0.6248 - val_accuracy: 0.6484\n",
            "Epoch 107/200\n",
            "4/4 [==============================] - 0s 15ms/step - loss: 0.6050 - accuracy: 0.7160 - val_loss: 0.6385 - val_accuracy: 0.6264\n",
            "Epoch 108/200\n",
            "4/4 [==============================] - 0s 30ms/step - loss: 0.6447 - accuracy: 0.6747 - val_loss: 0.6320 - val_accuracy: 0.6264\n",
            "Epoch 109/200\n",
            "4/4 [==============================] - 0s 17ms/step - loss: 0.6221 - accuracy: 0.6864 - val_loss: 0.6587 - val_accuracy: 0.6154\n",
            "Epoch 110/200\n",
            "4/4 [==============================] - 0s 16ms/step - loss: 0.6080 - accuracy: 0.6690 - val_loss: 0.6604 - val_accuracy: 0.6374\n",
            "Epoch 111/200\n",
            "4/4 [==============================] - 0s 15ms/step - loss: 0.6325 - accuracy: 0.6711 - val_loss: 0.6550 - val_accuracy: 0.6154\n",
            "Epoch 112/200\n",
            "4/4 [==============================] - 0s 16ms/step - loss: 0.6310 - accuracy: 0.7001 - val_loss: 0.6503 - val_accuracy: 0.6154\n",
            "Epoch 113/200\n",
            "4/4 [==============================] - 0s 15ms/step - loss: 0.5360 - accuracy: 0.7092 - val_loss: 0.6550 - val_accuracy: 0.6374\n",
            "Epoch 114/200\n",
            "4/4 [==============================] - 0s 15ms/step - loss: 0.5882 - accuracy: 0.7113 - val_loss: 0.6520 - val_accuracy: 0.6154\n",
            "Epoch 115/200\n",
            "4/4 [==============================] - 0s 15ms/step - loss: 0.5570 - accuracy: 0.6875 - val_loss: 0.6642 - val_accuracy: 0.5934\n",
            "Epoch 116/200\n",
            "4/4 [==============================] - 0s 14ms/step - loss: 0.5896 - accuracy: 0.7012 - val_loss: 0.6787 - val_accuracy: 0.6264\n",
            "Epoch 117/200\n",
            "4/4 [==============================] - 0s 18ms/step - loss: 0.5884 - accuracy: 0.6767 - val_loss: 0.6474 - val_accuracy: 0.6154\n",
            "Epoch 118/200\n",
            "4/4 [==============================] - 0s 15ms/step - loss: 0.6005 - accuracy: 0.7327 - val_loss: 0.6377 - val_accuracy: 0.6154\n",
            "Epoch 119/200\n",
            "4/4 [==============================] - 0s 14ms/step - loss: 0.6479 - accuracy: 0.6713 - val_loss: 0.6433 - val_accuracy: 0.6264\n",
            "Epoch 120/200\n",
            "4/4 [==============================] - 0s 16ms/step - loss: 0.5746 - accuracy: 0.7264 - val_loss: 0.6339 - val_accuracy: 0.6154\n",
            "Epoch 121/200\n",
            "4/4 [==============================] - 0s 15ms/step - loss: 0.5698 - accuracy: 0.7203 - val_loss: 0.6404 - val_accuracy: 0.6264\n",
            "Epoch 122/200\n",
            "4/4 [==============================] - 0s 24ms/step - loss: 0.5532 - accuracy: 0.6951 - val_loss: 0.6360 - val_accuracy: 0.6264\n",
            "Epoch 123/200\n",
            "4/4 [==============================] - 0s 14ms/step - loss: 0.5448 - accuracy: 0.7065 - val_loss: 0.6272 - val_accuracy: 0.6264\n",
            "Epoch 124/200\n",
            "4/4 [==============================] - 0s 19ms/step - loss: 0.5354 - accuracy: 0.7432 - val_loss: 0.6282 - val_accuracy: 0.6044\n",
            "Epoch 125/200\n",
            "4/4 [==============================] - 0s 17ms/step - loss: 0.6140 - accuracy: 0.7123 - val_loss: 0.6226 - val_accuracy: 0.6264\n",
            "Epoch 126/200\n",
            "4/4 [==============================] - 0s 16ms/step - loss: 0.6032 - accuracy: 0.6721 - val_loss: 0.6321 - val_accuracy: 0.6484\n",
            "Epoch 127/200\n",
            "4/4 [==============================] - 0s 14ms/step - loss: 0.5798 - accuracy: 0.7012 - val_loss: 0.6452 - val_accuracy: 0.6264\n",
            "Epoch 128/200\n",
            "4/4 [==============================] - 0s 17ms/step - loss: 0.6340 - accuracy: 0.7074 - val_loss: 0.6416 - val_accuracy: 0.5934\n",
            "Epoch 129/200\n",
            "4/4 [==============================] - 0s 15ms/step - loss: 0.5635 - accuracy: 0.7289 - val_loss: 0.6569 - val_accuracy: 0.6593\n",
            "Epoch 130/200\n",
            "4/4 [==============================] - 0s 16ms/step - loss: 0.5483 - accuracy: 0.6961 - val_loss: 0.6567 - val_accuracy: 0.6154\n",
            "Epoch 131/200\n",
            "4/4 [==============================] - 0s 15ms/step - loss: 0.5508 - accuracy: 0.7509 - val_loss: 0.6745 - val_accuracy: 0.6154\n",
            "Epoch 132/200\n",
            "4/4 [==============================] - 0s 14ms/step - loss: 0.6060 - accuracy: 0.7046 - val_loss: 0.6939 - val_accuracy: 0.6593\n",
            "Epoch 133/200\n",
            "4/4 [==============================] - 0s 14ms/step - loss: 0.6709 - accuracy: 0.6636 - val_loss: 0.6383 - val_accuracy: 0.6484\n",
            "Epoch 134/200\n",
            "4/4 [==============================] - 0s 16ms/step - loss: 0.6745 - accuracy: 0.6998 - val_loss: 0.6631 - val_accuracy: 0.6593\n",
            "Epoch 135/200\n",
            "4/4 [==============================] - 0s 16ms/step - loss: 0.5449 - accuracy: 0.7383 - val_loss: 0.7330 - val_accuracy: 0.6593\n",
            "Epoch 136/200\n",
            "4/4 [==============================] - 0s 14ms/step - loss: 0.5746 - accuracy: 0.7255 - val_loss: 0.6852 - val_accuracy: 0.6264\n",
            "Epoch 137/200\n",
            "4/4 [==============================] - 0s 15ms/step - loss: 0.5731 - accuracy: 0.6955 - val_loss: 0.6905 - val_accuracy: 0.6154\n",
            "Epoch 138/200\n",
            "4/4 [==============================] - 0s 15ms/step - loss: 0.5428 - accuracy: 0.7171 - val_loss: 0.6967 - val_accuracy: 0.6484\n",
            "Epoch 139/200\n",
            "4/4 [==============================] - 0s 17ms/step - loss: 0.6626 - accuracy: 0.6854 - val_loss: 0.6604 - val_accuracy: 0.6593\n",
            "Epoch 140/200\n",
            "4/4 [==============================] - 0s 15ms/step - loss: 0.6311 - accuracy: 0.6653 - val_loss: 0.6439 - val_accuracy: 0.6154\n",
            "Epoch 141/200\n",
            "4/4 [==============================] - 0s 15ms/step - loss: 0.6759 - accuracy: 0.6677 - val_loss: 0.6374 - val_accuracy: 0.6264\n",
            "Epoch 142/200\n",
            "4/4 [==============================] - 0s 15ms/step - loss: 0.5744 - accuracy: 0.7009 - val_loss: 0.6490 - val_accuracy: 0.6703\n",
            "Epoch 143/200\n",
            "4/4 [==============================] - 0s 14ms/step - loss: 0.5669 - accuracy: 0.7018 - val_loss: 0.6926 - val_accuracy: 0.6484\n",
            "Epoch 144/200\n",
            "4/4 [==============================] - 0s 16ms/step - loss: 0.5783 - accuracy: 0.6987 - val_loss: 0.6526 - val_accuracy: 0.6154\n",
            "Epoch 145/200\n",
            "4/4 [==============================] - 0s 14ms/step - loss: 0.5652 - accuracy: 0.7148 - val_loss: 0.6986 - val_accuracy: 0.6593\n",
            "Epoch 146/200\n",
            "4/4 [==============================] - 0s 15ms/step - loss: 0.5767 - accuracy: 0.7189 - val_loss: 0.6629 - val_accuracy: 0.6593\n",
            "Epoch 147/200\n",
            "4/4 [==============================] - 0s 15ms/step - loss: 0.5410 - accuracy: 0.7379 - val_loss: 0.6617 - val_accuracy: 0.6044\n",
            "Epoch 148/200\n",
            "4/4 [==============================] - 0s 27ms/step - loss: 0.5411 - accuracy: 0.7390 - val_loss: 0.6577 - val_accuracy: 0.6264\n",
            "Epoch 149/200\n",
            "4/4 [==============================] - 0s 15ms/step - loss: 0.6096 - accuracy: 0.7199 - val_loss: 0.6366 - val_accuracy: 0.6264\n",
            "Epoch 150/200\n",
            "4/4 [==============================] - 0s 19ms/step - loss: 0.5372 - accuracy: 0.7117 - val_loss: 0.6389 - val_accuracy: 0.6593\n",
            "Epoch 151/200\n",
            "4/4 [==============================] - 0s 15ms/step - loss: 0.5752 - accuracy: 0.6936 - val_loss: 0.6206 - val_accuracy: 0.6703\n",
            "Epoch 152/200\n",
            "4/4 [==============================] - 0s 16ms/step - loss: 0.6486 - accuracy: 0.7096 - val_loss: 0.6267 - val_accuracy: 0.6374\n",
            "Epoch 153/200\n",
            "4/4 [==============================] - 0s 15ms/step - loss: 0.5234 - accuracy: 0.7334 - val_loss: 0.6284 - val_accuracy: 0.6374\n",
            "Epoch 154/200\n",
            "4/4 [==============================] - 0s 15ms/step - loss: 0.6155 - accuracy: 0.7207 - val_loss: 0.6798 - val_accuracy: 0.6593\n",
            "Epoch 155/200\n",
            "4/4 [==============================] - 0s 15ms/step - loss: 0.6388 - accuracy: 0.6938 - val_loss: 0.6438 - val_accuracy: 0.6484\n",
            "Epoch 156/200\n",
            "4/4 [==============================] - 0s 16ms/step - loss: 0.5792 - accuracy: 0.7067 - val_loss: 0.6833 - val_accuracy: 0.6593\n",
            "Epoch 157/200\n",
            "4/4 [==============================] - 0s 15ms/step - loss: 0.5895 - accuracy: 0.7225 - val_loss: 0.6391 - val_accuracy: 0.6484\n",
            "Epoch 158/200\n",
            "4/4 [==============================] - 0s 15ms/step - loss: 0.5782 - accuracy: 0.7313 - val_loss: 0.7035 - val_accuracy: 0.6484\n",
            "Epoch 159/200\n",
            "4/4 [==============================] - 0s 15ms/step - loss: 0.6690 - accuracy: 0.6750 - val_loss: 0.6349 - val_accuracy: 0.5934\n",
            "Epoch 160/200\n",
            "4/4 [==============================] - 0s 15ms/step - loss: 0.5536 - accuracy: 0.7568 - val_loss: 0.6508 - val_accuracy: 0.6154\n",
            "Epoch 161/200\n",
            "4/4 [==============================] - 0s 16ms/step - loss: 0.6486 - accuracy: 0.7245 - val_loss: 0.6742 - val_accuracy: 0.6484\n",
            "Epoch 162/200\n",
            "4/4 [==============================] - 0s 15ms/step - loss: 0.5536 - accuracy: 0.7147 - val_loss: 0.6412 - val_accuracy: 0.6703\n",
            "Epoch 163/200\n",
            "4/4 [==============================] - 0s 15ms/step - loss: 0.5440 - accuracy: 0.7352 - val_loss: 0.6801 - val_accuracy: 0.6484\n",
            "Epoch 164/200\n",
            "4/4 [==============================] - 0s 15ms/step - loss: 0.5457 - accuracy: 0.7505 - val_loss: 0.6426 - val_accuracy: 0.6374\n",
            "Epoch 165/200\n",
            "4/4 [==============================] - 0s 16ms/step - loss: 0.5176 - accuracy: 0.7495 - val_loss: 0.6939 - val_accuracy: 0.6484\n",
            "Epoch 166/200\n",
            "4/4 [==============================] - 0s 16ms/step - loss: 0.6011 - accuracy: 0.6839 - val_loss: 0.6143 - val_accuracy: 0.6593\n",
            "Epoch 167/200\n",
            "4/4 [==============================] - 0s 14ms/step - loss: 0.5453 - accuracy: 0.7309 - val_loss: 0.6421 - val_accuracy: 0.6703\n",
            "Epoch 168/200\n",
            "4/4 [==============================] - 0s 15ms/step - loss: 0.5195 - accuracy: 0.7487 - val_loss: 0.6175 - val_accuracy: 0.6264\n",
            "Epoch 169/200\n",
            "4/4 [==============================] - 0s 16ms/step - loss: 0.5343 - accuracy: 0.7157 - val_loss: 0.6145 - val_accuracy: 0.6264\n",
            "Epoch 170/200\n",
            "4/4 [==============================] - 0s 18ms/step - loss: 0.5152 - accuracy: 0.7615 - val_loss: 0.6191 - val_accuracy: 0.6264\n",
            "Epoch 171/200\n",
            "4/4 [==============================] - 0s 14ms/step - loss: 0.5347 - accuracy: 0.7594 - val_loss: 0.6212 - val_accuracy: 0.6264\n",
            "Epoch 172/200\n",
            "4/4 [==============================] - 0s 14ms/step - loss: 0.5729 - accuracy: 0.7116 - val_loss: 0.6212 - val_accuracy: 0.6703\n",
            "Epoch 173/200\n",
            "4/4 [==============================] - 0s 14ms/step - loss: 0.5499 - accuracy: 0.7665 - val_loss: 0.6783 - val_accuracy: 0.6484\n",
            "Epoch 174/200\n",
            "4/4 [==============================] - 0s 15ms/step - loss: 0.5955 - accuracy: 0.6807 - val_loss: 0.6216 - val_accuracy: 0.6703\n",
            "Epoch 175/200\n",
            "4/4 [==============================] - 0s 15ms/step - loss: 0.5530 - accuracy: 0.7013 - val_loss: 0.6321 - val_accuracy: 0.6264\n",
            "Epoch 176/200\n",
            "4/4 [==============================] - 0s 15ms/step - loss: 0.5269 - accuracy: 0.7350 - val_loss: 0.6524 - val_accuracy: 0.6374\n",
            "Epoch 177/200\n",
            "4/4 [==============================] - 0s 19ms/step - loss: 0.5498 - accuracy: 0.7284 - val_loss: 0.6347 - val_accuracy: 0.6593\n",
            "Epoch 178/200\n",
            "4/4 [==============================] - 0s 14ms/step - loss: 0.4984 - accuracy: 0.7489 - val_loss: 0.6626 - val_accuracy: 0.6374\n",
            "Epoch 179/200\n",
            "4/4 [==============================] - 0s 15ms/step - loss: 0.5405 - accuracy: 0.7437 - val_loss: 0.6273 - val_accuracy: 0.6374\n",
            "Epoch 180/200\n",
            "4/4 [==============================] - 0s 19ms/step - loss: 0.5674 - accuracy: 0.7160 - val_loss: 0.6349 - val_accuracy: 0.6264\n",
            "Epoch 181/200\n",
            "4/4 [==============================] - 0s 15ms/step - loss: 0.5382 - accuracy: 0.7369 - val_loss: 0.6210 - val_accuracy: 0.6264\n",
            "Epoch 182/200\n",
            "4/4 [==============================] - 0s 16ms/step - loss: 0.5094 - accuracy: 0.7294 - val_loss: 0.6178 - val_accuracy: 0.6264\n",
            "Epoch 183/200\n",
            "4/4 [==============================] - 0s 16ms/step - loss: 0.4696 - accuracy: 0.7947 - val_loss: 0.6391 - val_accuracy: 0.6484\n",
            "Epoch 184/200\n",
            "4/4 [==============================] - 0s 14ms/step - loss: 0.5656 - accuracy: 0.7051 - val_loss: 0.6367 - val_accuracy: 0.6374\n",
            "Epoch 185/200\n",
            "4/4 [==============================] - 0s 15ms/step - loss: 0.5206 - accuracy: 0.7478 - val_loss: 0.6832 - val_accuracy: 0.6484\n",
            "Epoch 186/200\n",
            "4/4 [==============================] - 0s 16ms/step - loss: 0.5306 - accuracy: 0.7098 - val_loss: 0.6925 - val_accuracy: 0.6264\n",
            "Epoch 187/200\n",
            "4/4 [==============================] - 0s 16ms/step - loss: 0.6273 - accuracy: 0.6631 - val_loss: 0.6623 - val_accuracy: 0.6374\n",
            "Epoch 188/200\n",
            "4/4 [==============================] - 0s 15ms/step - loss: 0.5447 - accuracy: 0.7512 - val_loss: 0.6268 - val_accuracy: 0.6154\n",
            "Epoch 189/200\n",
            "4/4 [==============================] - 0s 15ms/step - loss: 0.5187 - accuracy: 0.7622 - val_loss: 0.6251 - val_accuracy: 0.6484\n",
            "Epoch 190/200\n",
            "4/4 [==============================] - 0s 14ms/step - loss: 0.5115 - accuracy: 0.7358 - val_loss: 0.6334 - val_accuracy: 0.6264\n",
            "Epoch 191/200\n",
            "4/4 [==============================] - 0s 17ms/step - loss: 0.5266 - accuracy: 0.7300 - val_loss: 0.6519 - val_accuracy: 0.6264\n",
            "Epoch 192/200\n",
            "4/4 [==============================] - 0s 15ms/step - loss: 0.5424 - accuracy: 0.7335 - val_loss: 0.7048 - val_accuracy: 0.6154\n",
            "Epoch 193/200\n",
            "4/4 [==============================] - 0s 22ms/step - loss: 0.4481 - accuracy: 0.7732 - val_loss: 0.7219 - val_accuracy: 0.6154\n",
            "Epoch 194/200\n",
            "4/4 [==============================] - 0s 20ms/step - loss: 0.6486 - accuracy: 0.6722 - val_loss: 0.7192 - val_accuracy: 0.6484\n",
            "Epoch 195/200\n",
            "4/4 [==============================] - 0s 17ms/step - loss: 0.6077 - accuracy: 0.6875 - val_loss: 0.6630 - val_accuracy: 0.6593\n",
            "Epoch 196/200\n",
            "4/4 [==============================] - 0s 38ms/step - loss: 0.5695 - accuracy: 0.6953 - val_loss: 0.6434 - val_accuracy: 0.6264\n",
            "Epoch 197/200\n",
            "4/4 [==============================] - 0s 19ms/step - loss: 0.6076 - accuracy: 0.6675 - val_loss: 0.7115 - val_accuracy: 0.6703\n",
            "Epoch 198/200\n",
            "4/4 [==============================] - 0s 19ms/step - loss: 0.5535 - accuracy: 0.7406 - val_loss: 0.6416 - val_accuracy: 0.6484\n",
            "Epoch 199/200\n",
            "4/4 [==============================] - 0s 23ms/step - loss: 0.5522 - accuracy: 0.7200 - val_loss: 0.6735 - val_accuracy: 0.6813\n",
            "Epoch 200/200\n",
            "4/4 [==============================] - 0s 23ms/step - loss: 0.5471 - accuracy: 0.7126 - val_loss: 0.6310 - val_accuracy: 0.6484\n"
          ]
        },
        {
          "output_type": "execute_result",
          "data": {
            "text/plain": [
              "<tensorflow.python.keras.callbacks.History at 0x22a8db1ac48>"
            ]
          },
          "metadata": {},
          "execution_count": 70
        }
      ]
    },
    {
      "cell_type": "code",
      "execution_count": 73,
      "metadata": {},
      "outputs": [],
      "source": [
        "model.save('model.h5') # save model weights"
      ]
    },
    {
      "source": [
        "**Step 5: Make a Prediction**"
      ],
      "cell_type": "markdown",
      "metadata": {}
    },
    {
      "cell_type": "code",
      "execution_count": 72,
      "metadata": {},
      "outputs": [
        {
          "output_type": "stream",
          "name": "stdout",
          "text": [
            "[[0.4760244 ]\n [0.92696285]\n [0.45494646]\n [0.38572752]\n [0.65785396]\n [0.35269237]\n [0.70970726]\n [0.24081185]\n [0.11502641]\n [0.23732346]\n [0.83778876]\n [0.4182267 ]\n [0.25115913]\n [0.5013165 ]\n [0.5319678 ]\n [0.71821505]\n [0.7123302 ]\n [0.755007  ]\n [0.51745224]\n [0.06695288]\n [0.288922  ]\n [0.802551  ]\n [0.07954657]\n [0.09538022]\n [0.21249136]\n [0.07133842]\n [0.35282475]\n [0.3110519 ]\n [0.85235095]\n [0.45115218]\n [0.44840783]\n [0.9409412 ]\n [0.6749227 ]\n [0.97330844]\n [0.25572205]\n [0.90554655]\n [0.0943895 ]\n [0.6042315 ]\n [0.747694  ]\n [0.777279  ]\n [0.11778739]\n [0.60744166]\n [0.9935182 ]\n [0.76999116]\n [0.89420784]\n [0.32232803]\n [0.84998405]\n [0.96545196]\n [0.4925013 ]\n [0.42763335]\n [0.54350644]\n [0.9232504 ]\n [0.7870307 ]\n [0.93285024]\n [0.88983154]\n [0.639885  ]\n [0.11339435]\n [0.7591504 ]\n [0.14338171]\n [0.8663131 ]\n [0.88013405]\n [0.62850755]\n [0.5213088 ]\n [0.5173151 ]\n [0.30600628]\n [0.35787642]\n [0.49994034]\n [0.41985092]\n [0.6947425 ]\n [0.70600235]\n [0.23320627]\n [0.45304582]\n [0.7786765 ]\n [0.42560938]\n [0.25560594]\n [0.33135337]\n [0.62279946]\n [0.39267743]\n [0.51318574]\n [0.44379386]\n [0.26826954]\n [0.5591466 ]\n [0.30992734]\n [0.44422048]\n [0.88400465]\n [0.1934796 ]\n [0.5051873 ]\n [0.8044932 ]\n [0.11845058]\n [0.5489214 ]\n [0.47139192]]\n"
          ]
        }
      ],
      "source": [
        "result = model.predict(X_test)\n",
        "print(result)"
      ]
    }
  ]
}