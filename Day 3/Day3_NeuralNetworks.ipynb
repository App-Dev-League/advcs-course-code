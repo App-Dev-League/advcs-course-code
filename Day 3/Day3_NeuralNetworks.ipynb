{
  "nbformat": 4,
  "nbformat_minor": 0,
  "metadata": {
    "colab": {
      "name": "Day3_NeuralNetworks.ipynb",
      "provenance": [],
      "collapsed_sections": []
    },
    "kernelspec": {
      "name": "python3",
      "display_name": "Python 3.7.9 64-bit"
    },
    "language_info": {
      "name": "python",
      "version": "3.7.9"
    },
    "metadata": {
      "interpreter": {
        "hash": "7f8c79caef6f500d10f1d53b5233fd35aa3fbbd3a39d10048919692e9c705d27"
      }
    },
    "interpreter": {
      "hash": "7f8c79caef6f500d10f1d53b5233fd35aa3fbbd3a39d10048919692e9c705d27"
    }
  },
  "cells": [
    {
      "cell_type": "markdown",
      "metadata": {
        "id": "y29U8oRAKG6K"
      },
      "source": [
        "**Step 1: Import Python Packages**"
      ]
    },
    {
      "cell_type": "code",
      "metadata": {
        "id": "a1IVlRgyKQbC"
      },
      "source": [
        "import pandas as pd\n",
        "import tensorflow as tf\n",
        "from keras.models import Sequential\n",
        "from keras.layers import Dense\n",
        "from keras.layers import Dropout"
      ],
      "execution_count": 15,
      "outputs": []
    },
    {
      "cell_type": "markdown",
      "metadata": {
        "id": "eW8BK7uuKwB5"
      },
      "source": [
        "**Step 2: Import the Dataset**\n",
        "\n",
        "\n"
      ]
    },
    {
      "cell_type": "code",
      "metadata": {
        "id": "wD1Z5T1dK6PJ"
      },
      "source": [
        "data = pd.read_csv(\"heart.csv\")"
      ],
      "execution_count": 20,
      "outputs": []
    },
    {
      "cell_type": "code",
      "metadata": {
        "colab": {
          "base_uri": "https://localhost:8080/",
          "height": 204
        },
        "id": "HdB4y7J-Sm8K",
        "outputId": "e1606462-38a1-4a7b-c531-f245fc92227c"
      },
      "source": [
        "data.head()"
      ],
      "execution_count": 21,
      "outputs": [
        {
          "output_type": "execute_result",
          "data": {
            "text/plain": [
              "   age  sex  cp  trtbps  chol  fbs  restecg  thalachh  exng  oldpeak  slp  \\\n",
              "0   63    1   3     145   233    1        0       150     0      2.3    0   \n",
              "1   37    1   2     130   250    0        1       187     0      3.5    0   \n",
              "2   41    0   1     130   204    0        0       172     0      1.4    2   \n",
              "3   56    1   1     120   236    0        1       178     0      0.8    2   \n",
              "4   57    0   0     120   354    0        1       163     1      0.6    2   \n",
              "\n",
              "   caa  thall  output  \n",
              "0    0      1       1  \n",
              "1    0      2       1  \n",
              "2    0      2       1  \n",
              "3    0      2       1  \n",
              "4    0      2       1  "
            ],
            "text/html": "<div>\n<style scoped>\n    .dataframe tbody tr th:only-of-type {\n        vertical-align: middle;\n    }\n\n    .dataframe tbody tr th {\n        vertical-align: top;\n    }\n\n    .dataframe thead th {\n        text-align: right;\n    }\n</style>\n<table border=\"1\" class=\"dataframe\">\n  <thead>\n    <tr style=\"text-align: right;\">\n      <th></th>\n      <th>age</th>\n      <th>sex</th>\n      <th>cp</th>\n      <th>trtbps</th>\n      <th>chol</th>\n      <th>fbs</th>\n      <th>restecg</th>\n      <th>thalachh</th>\n      <th>exng</th>\n      <th>oldpeak</th>\n      <th>slp</th>\n      <th>caa</th>\n      <th>thall</th>\n      <th>output</th>\n    </tr>\n  </thead>\n  <tbody>\n    <tr>\n      <th>0</th>\n      <td>63</td>\n      <td>1</td>\n      <td>3</td>\n      <td>145</td>\n      <td>233</td>\n      <td>1</td>\n      <td>0</td>\n      <td>150</td>\n      <td>0</td>\n      <td>2.3</td>\n      <td>0</td>\n      <td>0</td>\n      <td>1</td>\n      <td>1</td>\n    </tr>\n    <tr>\n      <th>1</th>\n      <td>37</td>\n      <td>1</td>\n      <td>2</td>\n      <td>130</td>\n      <td>250</td>\n      <td>0</td>\n      <td>1</td>\n      <td>187</td>\n      <td>0</td>\n      <td>3.5</td>\n      <td>0</td>\n      <td>0</td>\n      <td>2</td>\n      <td>1</td>\n    </tr>\n    <tr>\n      <th>2</th>\n      <td>41</td>\n      <td>0</td>\n      <td>1</td>\n      <td>130</td>\n      <td>204</td>\n      <td>0</td>\n      <td>0</td>\n      <td>172</td>\n      <td>0</td>\n      <td>1.4</td>\n      <td>2</td>\n      <td>0</td>\n      <td>2</td>\n      <td>1</td>\n    </tr>\n    <tr>\n      <th>3</th>\n      <td>56</td>\n      <td>1</td>\n      <td>1</td>\n      <td>120</td>\n      <td>236</td>\n      <td>0</td>\n      <td>1</td>\n      <td>178</td>\n      <td>0</td>\n      <td>0.8</td>\n      <td>2</td>\n      <td>0</td>\n      <td>2</td>\n      <td>1</td>\n    </tr>\n    <tr>\n      <th>4</th>\n      <td>57</td>\n      <td>0</td>\n      <td>0</td>\n      <td>120</td>\n      <td>354</td>\n      <td>0</td>\n      <td>1</td>\n      <td>163</td>\n      <td>1</td>\n      <td>0.6</td>\n      <td>2</td>\n      <td>0</td>\n      <td>2</td>\n      <td>1</td>\n    </tr>\n  </tbody>\n</table>\n</div>"
          },
          "metadata": {},
          "execution_count": 21
        }
      ]
    },
    {
      "cell_type": "code",
      "metadata": {
        "colab": {
          "base_uri": "https://localhost:8080/",
          "height": 204
        },
        "id": "d_XmX8KFimiR",
        "outputId": "ea160873-9b86-47e6-c1cc-d515c6ae56e5"
      },
      "source": [
        "# remove unnecessary columns\n",
        "data = data.drop('restecg',axis=1)\n",
        "data = data.drop('slp',axis=1)\n",
        "data = data.drop('thall',axis=1)\n",
        "data = data.drop('oldpeak',axis=1)\n",
        "data.tail()"
      ],
      "execution_count": 22,
      "outputs": [
        {
          "output_type": "execute_result",
          "data": {
            "text/plain": [
              "     age  sex  cp  trtbps  chol  fbs  thalachh  exng  caa  output\n",
              "298   57    0   0     140   241    0       123     1    0       0\n",
              "299   45    1   3     110   264    0       132     0    0       0\n",
              "300   68    1   0     144   193    1       141     0    2       0\n",
              "301   57    1   0     130   131    0       115     1    1       0\n",
              "302   57    0   1     130   236    0       174     0    1       0"
            ],
            "text/html": "<div>\n<style scoped>\n    .dataframe tbody tr th:only-of-type {\n        vertical-align: middle;\n    }\n\n    .dataframe tbody tr th {\n        vertical-align: top;\n    }\n\n    .dataframe thead th {\n        text-align: right;\n    }\n</style>\n<table border=\"1\" class=\"dataframe\">\n  <thead>\n    <tr style=\"text-align: right;\">\n      <th></th>\n      <th>age</th>\n      <th>sex</th>\n      <th>cp</th>\n      <th>trtbps</th>\n      <th>chol</th>\n      <th>fbs</th>\n      <th>thalachh</th>\n      <th>exng</th>\n      <th>caa</th>\n      <th>output</th>\n    </tr>\n  </thead>\n  <tbody>\n    <tr>\n      <th>298</th>\n      <td>57</td>\n      <td>0</td>\n      <td>0</td>\n      <td>140</td>\n      <td>241</td>\n      <td>0</td>\n      <td>123</td>\n      <td>1</td>\n      <td>0</td>\n      <td>0</td>\n    </tr>\n    <tr>\n      <th>299</th>\n      <td>45</td>\n      <td>1</td>\n      <td>3</td>\n      <td>110</td>\n      <td>264</td>\n      <td>0</td>\n      <td>132</td>\n      <td>0</td>\n      <td>0</td>\n      <td>0</td>\n    </tr>\n    <tr>\n      <th>300</th>\n      <td>68</td>\n      <td>1</td>\n      <td>0</td>\n      <td>144</td>\n      <td>193</td>\n      <td>1</td>\n      <td>141</td>\n      <td>0</td>\n      <td>2</td>\n      <td>0</td>\n    </tr>\n    <tr>\n      <th>301</th>\n      <td>57</td>\n      <td>1</td>\n      <td>0</td>\n      <td>130</td>\n      <td>131</td>\n      <td>0</td>\n      <td>115</td>\n      <td>1</td>\n      <td>1</td>\n      <td>0</td>\n    </tr>\n    <tr>\n      <th>302</th>\n      <td>57</td>\n      <td>0</td>\n      <td>1</td>\n      <td>130</td>\n      <td>236</td>\n      <td>0</td>\n      <td>174</td>\n      <td>0</td>\n      <td>1</td>\n      <td>0</td>\n    </tr>\n  </tbody>\n</table>\n</div>"
          },
          "metadata": {},
          "execution_count": 22
        }
      ]
    },
    {
      "cell_type": "markdown",
      "metadata": {
        "id": "j7M_yXFGSti-"
      },
      "source": [
        "**Step 3: Split the Data into Test and Train**"
      ]
    },
    {
      "cell_type": "code",
      "metadata": {
        "id": "U39irWPZSynZ"
      },
      "source": [
        "from sklearn.model_selection import train_test_split\n",
        "X=data.drop('output', axis=1)  \n",
        "y=data.output\n",
        "X_train, X_test, y_train, y_test = train_test_split(X, y, test_size=0.3)"
      ],
      "execution_count": 6,
      "outputs": []
    },
    {
      "cell_type": "markdown",
      "metadata": {
        "id": "w5VvKheiTafO"
      },
      "source": [
        "**Step 4: Create and Fit the Model**"
      ]
    },
    {
      "cell_type": "code",
      "metadata": {
        "id": "2ney0KUTTgtQ"
      },
      "source": [
        "model = Sequential()\n",
        "model.add(Dense(64, input_dim=9, activation='relu'))\n",
        "model.add(Dropout(0.1))\n",
        "model.add(Dense(32, activation='relu'))\n",
        "model.add(Dense(1, activation='sigmoid'))"
      ],
      "execution_count": 33,
      "outputs": []
    },
    {
      "cell_type": "code",
      "metadata": {
        "id": "GR-3CCkiUYJw"
      },
      "source": [
        "model.compile(loss='binary_crossentropy', optimizer='adam', metrics=['accuracy'])"
      ],
      "execution_count": 34,
      "outputs": []
    },
    {
      "cell_type": "code",
      "metadata": {
        "colab": {
          "base_uri": "https://localhost:8080/"
        },
        "id": "l17SXUanUYu4",
        "outputId": "bd1a469c-6675-4692-bc5e-23fc0429e1cb"
      },
      "source": [
        "model.fit(X_train, y_train, validation_data=(X_test, y_test), epochs=10, batch_size=64)"
      ],
      "execution_count": 35,
      "outputs": [
        {
          "output_type": "stream",
          "name": "stdout",
          "text": [
            "Epoch 1/10\n",
            "4/4 [==============================] - 1s 71ms/step - loss: 18.7256 - accuracy: 0.4350 - val_loss: 4.1983 - val_accuracy: 0.4835\n",
            "Epoch 2/10\n",
            "4/4 [==============================] - 0s 15ms/step - loss: 5.7260 - accuracy: 0.5367 - val_loss: 6.1616 - val_accuracy: 0.5165\n",
            "Epoch 3/10\n",
            "4/4 [==============================] - 0s 14ms/step - loss: 6.1142 - accuracy: 0.5571 - val_loss: 8.3045 - val_accuracy: 0.5165\n",
            "Epoch 4/10\n",
            "4/4 [==============================] - 0s 14ms/step - loss: 5.7264 - accuracy: 0.5539 - val_loss: 5.4050 - val_accuracy: 0.5165\n",
            "Epoch 5/10\n",
            "4/4 [==============================] - 0s 14ms/step - loss: 3.3732 - accuracy: 0.5465 - val_loss: 2.0039 - val_accuracy: 0.5495\n",
            "Epoch 6/10\n",
            "4/4 [==============================] - 0s 15ms/step - loss: 3.3768 - accuracy: 0.5754 - val_loss: 1.7243 - val_accuracy: 0.5275\n",
            "Epoch 7/10\n",
            "4/4 [==============================] - 0s 15ms/step - loss: 3.0511 - accuracy: 0.5744 - val_loss: 1.7258 - val_accuracy: 0.5495\n",
            "Epoch 8/10\n",
            "4/4 [==============================] - 0s 15ms/step - loss: 2.5333 - accuracy: 0.6082 - val_loss: 2.4461 - val_accuracy: 0.5055\n",
            "Epoch 9/10\n",
            "4/4 [==============================] - 0s 14ms/step - loss: 2.3884 - accuracy: 0.5813 - val_loss: 2.1895 - val_accuracy: 0.5165\n",
            "Epoch 10/10\n",
            "4/4 [==============================] - 0s 14ms/step - loss: 2.2626 - accuracy: 0.6188 - val_loss: 1.3579 - val_accuracy: 0.6154\n"
          ]
        },
        {
          "output_type": "execute_result",
          "data": {
            "text/plain": [
              "<tensorflow.python.keras.callbacks.History at 0x22a87c50948>"
            ]
          },
          "metadata": {},
          "execution_count": 35
        }
      ]
    },
    {
      "cell_type": "code",
      "execution_count": 25,
      "metadata": {},
      "outputs": [],
      "source": [
        "model.save('model.h5') # save model weights"
      ]
    },
    {
      "source": [
        "**Step 5: Make a Prediction**"
      ],
      "cell_type": "markdown",
      "metadata": {}
    },
    {
      "cell_type": "code",
      "execution_count": 36,
      "metadata": {},
      "outputs": [],
      "source": [
        "pred_data = {'age': [57], 'sex': [0], 'trtbps': [127], 'exang': [1], 'cp': [1], 'chol': [241], 'fbs': [0], 'caa': [0], 'thalachh': [123]}\n",
        "pred_dataF = pd.DataFrame(pred_data)"
      ]
    },
    {
      "cell_type": "code",
      "execution_count": 53,
      "metadata": {},
      "outputs": [
        {
          "output_type": "stream",
          "name": "stdout",
          "text": [
            "[[0.98605394]\n [0.9992933 ]\n [0.6947458 ]\n [0.20716801]\n [0.9980721 ]\n [0.83583915]\n [0.9941701 ]\n [0.6227917 ]\n [0.05803269]\n [0.9170234 ]\n [0.9759063 ]\n [0.91568685]\n [0.01600248]\n [0.518829  ]\n [0.9791399 ]\n [0.8353986 ]\n [0.98349524]\n [0.8441221 ]\n [0.9529752 ]\n [0.00332919]\n [0.69243145]\n [0.9808289 ]\n [0.19843766]\n [0.13929051]\n [0.8493663 ]\n [0.00659624]\n [0.9294772 ]\n [0.00370875]\n [0.9942554 ]\n [0.85415375]\n [0.66466546]\n [0.9995046 ]\n [0.0411315 ]\n [0.999848  ]\n [0.7403294 ]\n [0.9949869 ]\n [0.00337818]\n [0.990965  ]\n [0.9904081 ]\n [0.9924528 ]\n [0.00680414]\n [0.47865567]\n [0.99999654]\n [0.933555  ]\n [0.99883485]\n [0.05477411]\n [0.7922097 ]\n [0.9997632 ]\n [0.90437174]\n [0.45045084]\n [0.8973954 ]\n [0.9983275 ]\n [0.9901339 ]\n [0.9992995 ]\n [0.98761517]\n [0.9018591 ]\n [0.02891269]\n [0.9957187 ]\n [0.3773942 ]\n [0.99965775]\n [0.7254207 ]\n [0.96751416]\n [0.9519673 ]\n [0.2703743 ]\n [0.20857254]\n [0.85665196]\n [0.3954311 ]\n [0.82860744]\n [0.72801983]\n [0.8564869 ]\n [0.6284488 ]\n [0.59176964]\n [0.71694374]\n [0.7709119 ]\n [0.86655784]\n [0.06088272]\n [0.9845569 ]\n [0.6002577 ]\n [0.150329  ]\n [0.3042664 ]\n [0.2648399 ]\n [0.64848685]\n [0.4703807 ]\n [0.49809027]\n [0.97928715]\n [0.46701956]\n [0.5642545 ]\n [0.99378455]\n [0.01893374]\n [0.9195918 ]\n [0.9907088 ]]\n"
          ]
        }
      ],
      "source": [
        "result = model.predict(X_test)\n",
        "print(result)"
      ]
    }
  ]
}