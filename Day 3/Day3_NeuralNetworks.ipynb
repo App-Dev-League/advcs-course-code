{
  "nbformat": 4,
  "nbformat_minor": 0,
  "metadata": {
    "colab": {
      "name": "Day3_NeuralNetworks.ipynb",
      "provenance": [],
      "collapsed_sections": []
    },
    "kernelspec": {
      "name": "python379jvsc74a57bd07f8c79caef6f500d10f1d53b5233fd35aa3fbbd3a39d10048919692e9c705d27",
      "display_name": "Python 3.7.9 64-bit"
    },
    "language_info": {
      "name": "python",
      "version": "3.7.9"
    },
    "metadata": {
      "interpreter": {
        "hash": "7f8c79caef6f500d10f1d53b5233fd35aa3fbbd3a39d10048919692e9c705d27"
      }
    }
  },
  "cells": [
    {
      "cell_type": "markdown",
      "metadata": {
        "id": "y29U8oRAKG6K"
      },
      "source": [
        "**Step 1: Import Python Packages**"
      ]
    },
    {
      "cell_type": "code",
      "metadata": {
        "id": "a1IVlRgyKQbC"
      },
      "source": [
        "import pandas as pd\n",
        "import tensorflow as tf\n",
        "from keras.models import Sequential\n",
        "from keras.layers import Dense"
      ],
      "execution_count": 1,
      "outputs": []
    },
    {
      "cell_type": "markdown",
      "metadata": {
        "id": "eW8BK7uuKwB5"
      },
      "source": [
        "**Step 2: Import the Dataset**\n",
        "\n",
        "\n"
      ]
    },
    {
      "cell_type": "code",
      "metadata": {
        "id": "wD1Z5T1dK6PJ"
      },
      "source": [
        "data = pd.read_csv(\"heart.csv\")"
      ],
      "execution_count": 2,
      "outputs": []
    },
    {
      "cell_type": "code",
      "metadata": {
        "colab": {
          "base_uri": "https://localhost:8080/",
          "height": 204
        },
        "id": "HdB4y7J-Sm8K",
        "outputId": "5c6d4149-739f-4f45-f499-f9fb20368fc8"
      },
      "source": [
        "data.head()"
      ],
      "execution_count": 3,
      "outputs": [
        {
          "output_type": "execute_result",
          "data": {
            "text/plain": [
              "   age  sex  cp  trtbps  chol  fbs  restecg  thalachh  exng  oldpeak  slp  \\\n",
              "0   63    1   3     145   233    1        0       150     0      2.3    0   \n",
              "1   37    1   2     130   250    0        1       187     0      3.5    0   \n",
              "2   41    0   1     130   204    0        0       172     0      1.4    2   \n",
              "3   56    1   1     120   236    0        1       178     0      0.8    2   \n",
              "4   57    0   0     120   354    0        1       163     1      0.6    2   \n",
              "\n",
              "   caa  thall  output  \n",
              "0    0      1       1  \n",
              "1    0      2       1  \n",
              "2    0      2       1  \n",
              "3    0      2       1  \n",
              "4    0      2       1  "
            ],
            "text/html": "<div>\n<style scoped>\n    .dataframe tbody tr th:only-of-type {\n        vertical-align: middle;\n    }\n\n    .dataframe tbody tr th {\n        vertical-align: top;\n    }\n\n    .dataframe thead th {\n        text-align: right;\n    }\n</style>\n<table border=\"1\" class=\"dataframe\">\n  <thead>\n    <tr style=\"text-align: right;\">\n      <th></th>\n      <th>age</th>\n      <th>sex</th>\n      <th>cp</th>\n      <th>trtbps</th>\n      <th>chol</th>\n      <th>fbs</th>\n      <th>restecg</th>\n      <th>thalachh</th>\n      <th>exng</th>\n      <th>oldpeak</th>\n      <th>slp</th>\n      <th>caa</th>\n      <th>thall</th>\n      <th>output</th>\n    </tr>\n  </thead>\n  <tbody>\n    <tr>\n      <th>0</th>\n      <td>63</td>\n      <td>1</td>\n      <td>3</td>\n      <td>145</td>\n      <td>233</td>\n      <td>1</td>\n      <td>0</td>\n      <td>150</td>\n      <td>0</td>\n      <td>2.3</td>\n      <td>0</td>\n      <td>0</td>\n      <td>1</td>\n      <td>1</td>\n    </tr>\n    <tr>\n      <th>1</th>\n      <td>37</td>\n      <td>1</td>\n      <td>2</td>\n      <td>130</td>\n      <td>250</td>\n      <td>0</td>\n      <td>1</td>\n      <td>187</td>\n      <td>0</td>\n      <td>3.5</td>\n      <td>0</td>\n      <td>0</td>\n      <td>2</td>\n      <td>1</td>\n    </tr>\n    <tr>\n      <th>2</th>\n      <td>41</td>\n      <td>0</td>\n      <td>1</td>\n      <td>130</td>\n      <td>204</td>\n      <td>0</td>\n      <td>0</td>\n      <td>172</td>\n      <td>0</td>\n      <td>1.4</td>\n      <td>2</td>\n      <td>0</td>\n      <td>2</td>\n      <td>1</td>\n    </tr>\n    <tr>\n      <th>3</th>\n      <td>56</td>\n      <td>1</td>\n      <td>1</td>\n      <td>120</td>\n      <td>236</td>\n      <td>0</td>\n      <td>1</td>\n      <td>178</td>\n      <td>0</td>\n      <td>0.8</td>\n      <td>2</td>\n      <td>0</td>\n      <td>2</td>\n      <td>1</td>\n    </tr>\n    <tr>\n      <th>4</th>\n      <td>57</td>\n      <td>0</td>\n      <td>0</td>\n      <td>120</td>\n      <td>354</td>\n      <td>0</td>\n      <td>1</td>\n      <td>163</td>\n      <td>1</td>\n      <td>0.6</td>\n      <td>2</td>\n      <td>0</td>\n      <td>2</td>\n      <td>1</td>\n    </tr>\n  </tbody>\n</table>\n</div>"
          },
          "metadata": {},
          "execution_count": 3
        }
      ]
    },
    {
      "cell_type": "markdown",
      "metadata": {
        "id": "j7M_yXFGSti-"
      },
      "source": [
        "**Step 3: Split the Data into Test and Train**"
      ]
    },
    {
      "cell_type": "code",
      "metadata": {
        "id": "U39irWPZSynZ"
      },
      "source": [
        "from sklearn.model_selection import train_test_split\n",
        "X=data.drop('output', axis=1)  \n",
        "y=data.output\n",
        "X_train, X_test, y_train, y_test = train_test_split(X, y, test_size=0.3)"
      ],
      "execution_count": 4,
      "outputs": []
    },
    {
      "cell_type": "markdown",
      "metadata": {
        "id": "w5VvKheiTafO"
      },
      "source": [
        "**Step 4: Create and Fit the Model**"
      ]
    },
    {
      "cell_type": "code",
      "metadata": {
        "id": "2ney0KUTTgtQ"
      },
      "source": [
        "model = Sequential()\n",
        "model.add(Dense(16, input_dim=13, activation='sigmoid'))\n",
        "model.add(Dense(8, activation='sigmoid'))\n",
        "model.add(Dense(1, activation='sigmoid'))"
      ],
      "execution_count": 5,
      "outputs": []
    },
    {
      "cell_type": "code",
      "metadata": {
        "id": "GR-3CCkiUYJw"
      },
      "source": [
        "model.compile(loss='categorical_crossentropy', optimizer='adam', metrics=['accuracy'])"
      ],
      "execution_count": 6,
      "outputs": []
    },
    {
      "cell_type": "code",
      "metadata": {
        "colab": {
          "base_uri": "https://localhost:8080/"
        },
        "id": "l17SXUanUYu4",
        "outputId": "4bafa883-be98-41ba-b1b6-95eb47bb028d"
      },
      "source": [
        "model.fit(X_train, y_train, epochs=10, batch_size=64)"
      ],
      "execution_count": 7,
      "outputs": [
        {
          "output_type": "stream",
          "name": "stdout",
          "text": [
            "Epoch 1/10\n",
            "4/4 [==============================] - 0s 3ms/step - loss: 0.0000e+00 - accuracy: 0.4063\n",
            "Epoch 2/10\n",
            "4/4 [==============================] - 0s 2ms/step - loss: 0.0000e+00 - accuracy: 0.4177\n",
            "Epoch 3/10\n",
            "4/4 [==============================] - 0s 1ms/step - loss: 0.0000e+00 - accuracy: 0.4370\n",
            "Epoch 4/10\n",
            "4/4 [==============================] - 0s 2ms/step - loss: 0.0000e+00 - accuracy: 0.4344\n",
            "Epoch 5/10\n",
            "4/4 [==============================] - 0s 2ms/step - loss: 0.0000e+00 - accuracy: 0.4412\n",
            "Epoch 6/10\n",
            "4/4 [==============================] - 0s 2ms/step - loss: 0.0000e+00 - accuracy: 0.4000\n",
            "Epoch 7/10\n",
            "4/4 [==============================] - 0s 2ms/step - loss: 0.0000e+00 - accuracy: 0.4052\n",
            "Epoch 8/10\n",
            "4/4 [==============================] - 0s 1ms/step - loss: 0.0000e+00 - accuracy: 0.4156\n",
            "Epoch 9/10\n",
            "4/4 [==============================] - 0s 2ms/step - loss: 0.0000e+00 - accuracy: 0.4276\n",
            "Epoch 10/10\n",
            "4/4 [==============================] - 0s 2ms/step - loss: 0.0000e+00 - accuracy: 0.3953\n"
          ]
        },
        {
          "output_type": "execute_result",
          "data": {
            "text/plain": [
              "<tensorflow.python.keras.callbacks.History at 0x1376f7df088>"
            ]
          },
          "metadata": {},
          "execution_count": 7
        }
      ]
    },
    {
      "cell_type": "code",
      "execution_count": 9,
      "metadata": {},
      "outputs": [],
      "source": [
        "model.save(\"model.h5\")"
      ]
    }
  ]
}